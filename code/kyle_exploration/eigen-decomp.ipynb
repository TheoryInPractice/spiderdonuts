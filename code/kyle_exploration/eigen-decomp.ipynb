{
 "cells": [
  {
   "cell_type": "code",
   "execution_count": 9,
   "metadata": {
    "collapsed": true
   },
   "outputs": [],
   "source": [
    "# Testing some little eigenvalue ideas\n",
    "\n",
    "import networkx as nx\n",
    "import numpy as np\n",
    "import scipy as sp\n",
    "\n",
    "\n",
    "# fast_gnp_random_graph(n, p, seed=None, directed=False)\n",
    "n = 100 # number of nodes\n",
    "p = 0.1 # edge probability\n",
    "G = nx.fast_gnp_random_graph( n, p )\n",
    "A = nx.adjacency_matrix(G).astype('double') # linear algebra functions require matrix to be type 'double'"
   ]
  },
  {
   "cell_type": "code",
   "execution_count": 10,
   "metadata": {
    "collapsed": true
   },
   "outputs": [],
   "source": [
    "# Produce full eigen-decomposition\n",
    "from scipy import sparse\n",
    "\n",
    "def full_eigendecomp(A):\n",
    "    n,m = A.shape\n",
    "    if n!= m:\n",
    "        # report error\n",
    "        return\n",
    "    # For some reason this function cannot return all n eigenvalues !?\n",
    "    # So we construct a way around this below\n",
    "    lams, vecs = sparse.linalg.eigsh(A, k=n-1)\n",
    "    I = sp.sparse.identity(n, dtype='d', format='csr')\n",
    "    vecs = sp.matrix(vecs)\n",
    "    W = vecs*(vecs.transpose()) - I\n",
    "    w = W[:,0]\n",
    "    # make w a unit vector\n",
    "    wnorm = sp.transpose(w)*w\n",
    "    wnorm = np.sqrt(np.asscalar(wnorm))\n",
    "    w = w/wnorm\n",
    "    # Insert new eig vector into rest of eig vector matrix\n",
    "    vecs = np.asarray(vecs)\n",
    "    vecs = np.append(vecs, w, axis=1)\n",
    "    # Compute new eigenvalue associated to this eigvec\n",
    "    vecs = sp.matrix(vecs)\n",
    "    new_eig = sp.transpose(w)*(A*w)\n",
    "    lams = np.append(lams, np.asscalar(new_eig))\n",
    "    return lams, vecs"
   ]
  },
  {
   "cell_type": "code",
   "execution_count": 11,
   "metadata": {
    "collapsed": true
   },
   "outputs": [],
   "source": [
    "Lambda, V = full_eigendecomp(A)"
   ]
  },
  {
   "cell_type": "code",
   "execution_count": 17,
   "metadata": {
    "collapsed": false
   },
   "outputs": [
    {
     "data": {
      "text/plain": [
       "1.2375386832014988e-13"
      ]
     },
     "execution_count": 17,
     "metadata": {},
     "output_type": "execute_result"
    }
   ],
   "source": [
    "np.linalg.norm( V*V.H - sp.sparse.identity(n, dtype='d', format='csr') )"
   ]
  },
  {
   "cell_type": "code",
   "execution_count": null,
   "metadata": {
    "collapsed": true
   },
   "outputs": [],
   "source": []
  }
 ],
 "metadata": {
  "kernelspec": {
   "display_name": "Python 3",
   "language": "python",
   "name": "python3"
  },
  "language_info": {
   "codemirror_mode": {
    "name": "ipython",
    "version": 3
   },
   "file_extension": ".py",
   "mimetype": "text/x-python",
   "name": "python",
   "nbconvert_exporter": "python",
   "pygments_lexer": "ipython3",
   "version": "3.5.1"
  }
 },
 "nbformat": 4,
 "nbformat_minor": 1
}
