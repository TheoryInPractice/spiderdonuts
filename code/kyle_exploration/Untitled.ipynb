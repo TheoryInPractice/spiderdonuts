{
 "cells": [
  {
   "cell_type": "code",
   "execution_count": 4,
   "metadata": {
    "collapsed": false
   },
   "outputs": [],
   "source": [
    "import networkx as nx\n",
    "import matplotlib.pyplot as plt\n",
    "import numpy as np\n",
    "import struckpod.walks as wks\n",
    "import scipy as sp\n",
    "import scipy.linalg as lin\n",
    "\n",
    "# Construct 13-node snow-flake graph:\n",
    "#   A 12-cycle with a single node connected to every other vertex\n",
    "flake_number = 5\n",
    "Cn = nx.cycle_graph(2*flake_number)\n",
    "Adj = nx.adjacency_matrix(Cn).toarray()\n",
    "A_snowflake = np.zeros((1+2*flake_number,1+2*flake_number))\n",
    "A_snowflake[1:(1+2*flake_number), 1:(1+2*flake_number)] = Adj\n",
    "\n",
    "# Construct vector to identify \"every other node\" in the cycle\n",
    "temp_vec = np.zeros((2*flake_number,1))\n",
    "a_mod = 0\n",
    "for j in range(len(temp_vec)):\n",
    "    if j%2==(a_mod%2):\n",
    "        temp_vec[j] = 1\n",
    "\n",
    "A_snowflake[1:(1+2*flake_number),0] = np.squeeze(temp_vec)\n",
    "A_snowflake[0,1:(1+2*flake_number)] = np.squeeze(temp_vec.T)\n",
    "\n",
    "# Draw snow-flake graph\n",
    "'''G=nx.from_numpy_matrix(A_snowflake)\n",
    "nx.draw_spectral(G)\n",
    "plt.show()\n",
    "'''\n",
    "\n",
    "\n",
    "# Next link together 5 of these snowflakes\n",
    "D = np.zeros( (1+2*flake_number) )\n",
    "D[1:(1+2*flake_number)] = np.squeeze(temp_vec)\n",
    "D = np.diag(D)\n",
    "\n",
    "inner_length = 5\n",
    "cycle_inner_g = nx.cycle_graph(inner_length)\n",
    "cycle_inner = nx.adjacency_matrix(cycle_inner_g).toarray()\n",
    "I_inner = np.identity(inner_length)\n",
    "A_inner = np.kron(I_inner, A_snowflake) + np.kron(cycle_inner,D)\n",
    "\n",
    "# Now link together 3 copies of the 5 pentagons via triangles\n",
    "outer_length = 3\n",
    "cycle_outer_g = nx.cycle_graph(outer_length)\n",
    "cycle_outer = nx.adjacency_matrix(cycle_outer_g).toarray()\n",
    "\n",
    "temp_vec = np.zeros((2*flake_number,1))\n",
    "for j in range(len(temp_vec)):\n",
    "    if j%2==(a_mod+1%2):\n",
    "        temp_vec[j] = 1\n",
    "temp_vec = np.squeeze(temp_vec)\n",
    "D = np.zeros(1+2*flake_number)\n",
    "D[1:(1+2*flake_number)] = temp_vec\n",
    "\n",
    "I_outer = np.identity(outer_length)\n",
    "AG = np.kron(I_outer, A_inner) + np.kron(cycle_outer, np.kron( I_inner, np.diag(D)) )\n",
    "AG = np.asmatrix(AG)\n"
   ]
  },
  {
   "cell_type": "code",
   "execution_count": null,
   "metadata": {
    "collapsed": true
   },
   "outputs": [],
   "source": [
    "# Incorporate this code in the nonneagtive / positive linear system sovlers in walks.py\n",
    "\n",
    "        # Default parameter values\n",
    "        A_eq = np.bmat( [w, np.asmatrix(np.zeros(num_rows)).T] )\n",
    "        c = np.ones(num_cols+1)\n",
    "        c[-1] = -1\n",
    "        A_ub = np.bmat([-np.matrix(np.identity(num_cols)), np.asmatrix(np.ones(num_cols))])\n",
    "        b_ub = np.zeros(num_cols)\n",
    "        b_eq = np.ones(num_rows)\n",
    "        "
   ]
  },
  {
   "cell_type": "code",
   "execution_count": 5,
   "metadata": {
    "collapsed": false
   },
   "outputs": [
    {
     "name": "stdout",
     "output_type": "stream",
     "text": [
      "[[  5.   0.   0.  55.]\n",
      " [  5.   0.   6.  47.]\n",
      " [  4.   2.  26.  32.]]\n"
     ]
    }
   ],
   "source": [
    "num_nodes = np.shape(AG)[0]\n",
    "inds = [0,1,2]\n",
    "#inds = [range(num_nodes)]\n",
    "Ut = np.zeros((len(inds),4))\n",
    "\n",
    "A_temp = AG**2\n",
    "diag = np.diag(A_temp)\n",
    "Ut[:,0] = np.squeeze(diag[inds])\n",
    "\n",
    "A_temp = AG**3\n",
    "diag = np.diag(A_temp)\n",
    "Ut[:,1] = np.squeeze(diag[inds])\n",
    "\n",
    "A_temp = AG**5\n",
    "diag = np.diag(A_temp)\n",
    "Ut[:,2] = np.squeeze(diag[inds])\n",
    "\n",
    "A_temp = AG**4\n",
    "diag = np.diag(A_temp)\n",
    "Ut[:,3] = np.squeeze(diag[inds])\n",
    "\n",
    "\n",
    "\n",
    "Ut = np.matrix(Ut)\n",
    "print(Ut)"
   ]
  },
  {
   "cell_type": "code",
   "execution_count": 8,
   "metadata": {
    "collapsed": false
   },
   "outputs": [
    {
     "ename": "NameError",
     "evalue": "name 'scripts' is not defined",
     "output_type": "error",
     "traceback": [
      "\u001b[0;31m---------------------------------------------------------------------------\u001b[0m",
      "\u001b[0;31mNameError\u001b[0m                                 Traceback (most recent call last)",
      "\u001b[0;32m<ipython-input-8-90fbfee6ed31>\u001b[0m in \u001b[0;36m<module>\u001b[0;34m()\u001b[0m\n\u001b[0;32m----> 1\u001b[0;31m \u001b[0mscripts\u001b[0m\u001b[0;34m.\u001b[0m\u001b[0mprove_deceptive_snowflakecycle\u001b[0m\u001b[0;34m\u001b[0m\u001b[0m\n\u001b[0m",
      "\u001b[0;31mNameError\u001b[0m: name 'scripts' is not defined"
     ]
    }
   ],
   "source": [
    "python3 -m code.scripts.prove_deceptive_snowflakecycle"
   ]
  },
  {
   "cell_type": "code",
   "execution_count": 4,
   "metadata": {
    "collapsed": false
   },
   "outputs": [
    {
     "name": "stdout",
     "output_type": "stream",
     "text": [
      "[[  5.   0.   0.]\n",
      " [  5.   0.   6.]\n",
      " [  4.   2.  26.]]\n",
      "[[  5.   0.   0.  -1.  -0.]\n",
      " [  5.   0.   6.  -1.  -0.]\n",
      " [  4.   2.  26.  -1.  -0.]]\n",
      "A_eq\n",
      "[ 1.  1.  1.  1.  1.]\n",
      "c\n",
      "[[-1. -0. -0. -0. -1.]\n",
      " [-0. -1. -0. -0. -1.]\n",
      " [-0. -0. -1. -0. -1.]\n",
      " [-0. -0. -0. -1.  0.]]\n",
      "A_ub\n",
      "[ 7.17799615  6.60429866  5.58430618]\n"
     ]
    }
   ],
   "source": [
    "# Parameter values\n",
    "num_rows, num_cols = Ut.shape\n",
    "\n",
    "A_eq = np.zeros( (num_rows, num_cols+2) )\n",
    "A_eq[:,0:num_cols] = Ut\n",
    "A_eq[:,num_cols] = -np.squeeze(np.ones(shape=(num_rows,1)))\n",
    "A_eq[:,-1] = -np.squeeze(np.zeros(shape=(num_rows,1)))\n",
    "A_eq = np.matrix(A_eq)\n",
    "print(A_eq)\n",
    "print('A_eq')\n",
    "\n",
    "num_rows,num_cols = np.shape(A_eq)\n",
    "c = np.ones(num_cols)\n",
    "print(c)\n",
    "print('c')\n",
    "\n",
    "A_ub = np.zeros( (num_rows+1, num_cols) )\n",
    "A_ub[:,0:num_rows+1] = -np.identity(num_rows+1)\n",
    "A_ub[0:num_rows,-1] = np.squeeze(np.ones(shape=(num_rows,1)))\n",
    "A_ub = np.matrix(A_ub)\n",
    "print(A_ub)\n",
    "print('A_ub')\n",
    "\n",
    "d = np.diag(lin.expm(AG))\n",
    "print(d[0:3])"
   ]
  },
  {
   "cell_type": "code",
   "execution_count": 36,
   "metadata": {
    "collapsed": false
   },
   "outputs": [
    {
     "name": "stdout",
     "output_type": "stream",
     "text": [
      "[[-1. -0. -0. -0. -1.]\n",
      " [-0. -1. -0. -0. -1.]\n",
      " [-0. -0. -1. -0. -1.]\n",
      " [-0. -0. -0. -1.  0.]]\n",
      "[[  5.   0.   0.   0.]\n",
      " [  5.   0.   6.   0.]\n",
      " [  4.   2.  26.   0.]]\n"
     ]
    }
   ],
   "source": [
    "print(A_ub)\n",
    "A_eq = np.bmat([Ut, np.asmatrix(np.zeros(num_rows)).T])\n",
    "print(A_eq)"
   ]
  },
  {
   "cell_type": "code",
   "execution_count": 31,
   "metadata": {
    "collapsed": false
   },
   "outputs": [
    {
     "name": "stdout",
     "output_type": "stream",
     "text": [
      "Help on function bmat in module numpy.matrixlib.defmatrix:\n",
      "\n",
      "bmat(obj, ldict=None, gdict=None)\n",
      "    Build a matrix object from a string, nested sequence, or array.\n",
      "    \n",
      "    Parameters\n",
      "    ----------\n",
      "    obj : str or array_like\n",
      "        Input data.  Names of variables in the current scope may be\n",
      "        referenced, even if `obj` is a string.\n",
      "    ldict : dict, optional\n",
      "        A dictionary that replaces local operands in current frame.\n",
      "        Ignored if `obj` is not a string or `gdict` is `None`.\n",
      "    gdict : dict, optional\n",
      "        A dictionary that replaces global operands in current frame.\n",
      "        Ignored if `obj` is not a string.\n",
      "    \n",
      "    Returns\n",
      "    -------\n",
      "    out : matrix\n",
      "        Returns a matrix object, which is a specialized 2-D array.\n",
      "    \n",
      "    See Also\n",
      "    --------\n",
      "    matrix\n",
      "    \n",
      "    Examples\n",
      "    --------\n",
      "    >>> A = np.mat('1 1; 1 1')\n",
      "    >>> B = np.mat('2 2; 2 2')\n",
      "    >>> C = np.mat('3 4; 5 6')\n",
      "    >>> D = np.mat('7 8; 9 0')\n",
      "    \n",
      "    All the following expressions construct the same block matrix:\n",
      "    \n",
      "    >>> np.bmat([[A, B], [C, D]])\n",
      "    matrix([[1, 1, 2, 2],\n",
      "            [1, 1, 2, 2],\n",
      "            [3, 4, 7, 8],\n",
      "            [5, 6, 9, 0]])\n",
      "    >>> np.bmat(np.r_[np.c_[A, B], np.c_[C, D]])\n",
      "    matrix([[1, 1, 2, 2],\n",
      "            [1, 1, 2, 2],\n",
      "            [3, 4, 7, 8],\n",
      "            [5, 6, 9, 0]])\n",
      "    >>> np.bmat('A,B; C,D')\n",
      "    matrix([[1, 1, 2, 2],\n",
      "            [1, 1, 2, 2],\n",
      "            [3, 4, 7, 8],\n",
      "            [5, 6, 9, 0]])\n",
      "\n"
     ]
    }
   ],
   "source": [
    "help(np.bmat)"
   ]
  },
  {
   "cell_type": "code",
   "execution_count": 260,
   "metadata": {
    "collapsed": false,
    "scrolled": true
   },
   "outputs": [
    {
     "name": "stdout",
     "output_type": "stream",
     "text": [
      "[-7.17799615 -6.60429866 -5.58430618]\n",
      "b_eq\n",
      "[ 0.          0.          0.         -7.17799615]\n",
      "b_ub\n"
     ]
    },
    {
     "data": {
      "text/plain": [
       "     fun: 12.627607173976106\n",
       " message: 'Optimization terminated successfully.'\n",
       "     nit: 4\n",
       "   slack: array([ 0.89233246,  0.        ,  0.09561625,  4.46166232])\n",
       "  status: 0\n",
       " success: True\n",
       "       x: array([  0.89233246,   0.        ,   0.09561625,  11.63965846,   0.        ])"
      ]
     },
     "execution_count": 260,
     "metadata": {},
     "output_type": "execute_result"
    }
   ],
   "source": [
    "g = [d[idx] for idx in inds]\n",
    "b_eq = -np.asarray(g)\n",
    "print(b_eq)\n",
    "print('b_eq')\n",
    "\n",
    "b_ub = np.zeros(num_rows+1)\n",
    "b_ub[-1] = -max(abs(b_eq))\n",
    "print(b_ub)\n",
    "print('b_ub')\n",
    "\n",
    "# Return result\n",
    "opt_obj = sp.optimize.linprog(\n",
    "    c=c,\n",
    "    A_ub=A_ub,\n",
    "    b_ub=b_ub,\n",
    "    A_eq=A_eq,\n",
    "    b_eq=b_eq\n",
    ")\n",
    "opt_obj"
   ]
  },
  {
   "cell_type": "code",
   "execution_count": 230,
   "metadata": {
    "collapsed": false
   },
   "outputs": [],
   "source": [
    "opt_obj\n",
    "Ut[2,2] = 5"
   ]
  },
  {
   "cell_type": "code",
   "execution_count": 96,
   "metadata": {
    "collapsed": false
   },
   "outputs": [
    {
     "data": {
      "text/plain": [
       "{'classes': {0: [0],\n",
       "  1: [1],\n",
       "  2: [2],\n",
       "  3: [3],\n",
       "  4: [4],\n",
       "  5: [5],\n",
       "  6: [6],\n",
       "  7: [7],\n",
       "  8: [8],\n",
       "  9: [9],\n",
       "  10: [10],\n",
       "  11: [11],\n",
       "  12: [12],\n",
       "  13: [13],\n",
       "  14: [14],\n",
       "  15: [15],\n",
       "  16: [16],\n",
       "  17: [17],\n",
       "  18: [18],\n",
       "  19: [19],\n",
       "  20: [20],\n",
       "  21: [21],\n",
       "  22: [22],\n",
       "  23: [23],\n",
       "  24: [24],\n",
       "  25: [25],\n",
       "  26: [26],\n",
       "  27: [27],\n",
       "  28: [28],\n",
       "  29: [29],\n",
       "  30: [30],\n",
       "  31: [31],\n",
       "  32: [32],\n",
       "  33: [33],\n",
       "  34: [34],\n",
       "  35: [35],\n",
       "  36: [36],\n",
       "  37: [37],\n",
       "  38: [38],\n",
       "  39: [39],\n",
       "  40: [40],\n",
       "  41: [41],\n",
       "  42: [42],\n",
       "  43: [43],\n",
       "  44: [44],\n",
       "  45: [45],\n",
       "  46: [46],\n",
       "  47: [47],\n",
       "  48: [48],\n",
       "  49: [49],\n",
       "  50: [50],\n",
       "  51: [51],\n",
       "  52: [52],\n",
       "  53: [53],\n",
       "  54: [54],\n",
       "  55: [55],\n",
       "  56: [56],\n",
       "  57: [57],\n",
       "  58: [58],\n",
       "  59: [59],\n",
       "  60: [60],\n",
       "  61: [61],\n",
       "  62: [62],\n",
       "  63: [63],\n",
       "  64: [64],\n",
       "  65: [65],\n",
       "  66: [66],\n",
       "  67: [67],\n",
       "  68: [68],\n",
       "  69: [69],\n",
       "  70: [70],\n",
       "  71: [71],\n",
       "  72: [72],\n",
       "  73: [73],\n",
       "  74: [74],\n",
       "  75: [75],\n",
       "  76: [76],\n",
       "  77: [77],\n",
       "  78: [78],\n",
       "  79: [79],\n",
       "  80: [80],\n",
       "  81: [81],\n",
       "  82: [82],\n",
       "  83: [83],\n",
       "  84: [84],\n",
       "  85: [85],\n",
       "  86: [86],\n",
       "  87: [87],\n",
       "  88: [88],\n",
       "  89: [89],\n",
       "  90: [90],\n",
       "  91: [91],\n",
       "  92: [92],\n",
       "  93: [93],\n",
       "  94: [94],\n",
       "  95: [95],\n",
       "  96: [96],\n",
       "  97: [97],\n",
       "  98: [98],\n",
       "  99: [99],\n",
       "  100: [100],\n",
       "  101: [101],\n",
       "  102: [102],\n",
       "  103: [103],\n",
       "  104: [104],\n",
       "  105: [105],\n",
       "  106: [106],\n",
       "  107: [107],\n",
       "  108: [108],\n",
       "  109: [109],\n",
       "  110: [110],\n",
       "  111: [111],\n",
       "  112: [112],\n",
       "  113: [113],\n",
       "  114: [114],\n",
       "  115: [115],\n",
       "  116: [116],\n",
       "  117: [117],\n",
       "  118: [118],\n",
       "  119: [119],\n",
       "  120: [120],\n",
       "  121: [121],\n",
       "  122: [122],\n",
       "  123: [123],\n",
       "  124: [124],\n",
       "  125: [125],\n",
       "  126: [126],\n",
       "  127: [127],\n",
       "  128: [128],\n",
       "  129: [129],\n",
       "  130: [130],\n",
       "  131: [131],\n",
       "  132: [132],\n",
       "  133: [133],\n",
       "  134: [134],\n",
       "  135: [135],\n",
       "  136: [136],\n",
       "  137: [137],\n",
       "  138: [138],\n",
       "  139: [139],\n",
       "  140: [140],\n",
       "  141: [141],\n",
       "  142: [142],\n",
       "  143: [143],\n",
       "  144: [144],\n",
       "  145: [145],\n",
       "  146: [146],\n",
       "  147: [147],\n",
       "  148: [148],\n",
       "  149: [149],\n",
       "  150: [150],\n",
       "  151: [151],\n",
       "  152: [152],\n",
       "  153: [153],\n",
       "  154: [154],\n",
       "  155: [155],\n",
       "  156: [156],\n",
       "  157: [157],\n",
       "  158: [158],\n",
       "  159: [159],\n",
       "  160: [160],\n",
       "  161: [161],\n",
       "  162: [162],\n",
       "  163: [163],\n",
       "  164: [164],\n",
       "  165: [165],\n",
       "  166: [166],\n",
       "  167: [167],\n",
       "  168: [168],\n",
       "  169: [169],\n",
       "  170: [170],\n",
       "  171: [171],\n",
       "  172: [172],\n",
       "  173: [173],\n",
       "  174: [174],\n",
       "  175: [175],\n",
       "  176: [176],\n",
       "  177: [177],\n",
       "  178: [178],\n",
       "  179: [179],\n",
       "  180: [180],\n",
       "  181: [181],\n",
       "  182: [182],\n",
       "  183: [183],\n",
       "  184: [184],\n",
       "  185: [185],\n",
       "  186: [186],\n",
       "  187: [187],\n",
       "  188: [188],\n",
       "  189: [189],\n",
       "  190: [190],\n",
       "  191: [191],\n",
       "  192: [192],\n",
       "  193: [193],\n",
       "  194: [194]},\n",
       " 'diag_matrix': matrix([[6.0, 0.0, 60.0, ..., 1.1518261038892855e+133,\n",
       "          5.804417317464627e+133, 2.9250301136187546e+134],\n",
       "         [3.0, 0.0, 28.0, ..., 8.125085145430541e+132,\n",
       "          4.0944882292888775e+133, 2.063342547006694e+134],\n",
       "         [6.0, 2.0, 70.0, ..., 3.0087880679629557e+133,\n",
       "          1.5162237614896595e+134, 7.640732574028872e+134],\n",
       "         ..., \n",
       "         [6.0, 2.0, 70.0, ..., 3.008788067962955e+133,\n",
       "          1.5162237614896593e+134, 7.64073257402887e+134],\n",
       "         [3.0, 0.0, 28.0, ..., 8.125085145430539e+132,\n",
       "          4.0944882292888735e+133, 2.0633425470066926e+134],\n",
       "         [6.0, 2.0, 70.0, ..., 3.008788067962955e+133,\n",
       "          1.5162237614896591e+134, 7.64073257402887e+134]], dtype=object),\n",
       " 'eig_matrix': matrix([[6.0, 0.0, 60.0, ..., 1.6514955208355815e+31, 8.312934383893758e+31,\n",
       "          4.19268197399824e+32],\n",
       "         [3.0, 0.0, 28.0, ..., 1.1930911641868799e+31, 5.996636534342014e+31,\n",
       "          3.0183344311867595e+32],\n",
       "         [6.0, 2.0, 70.0, ..., 4.517778025370249e+31, 2.2676234016393304e+32,\n",
       "          1.1392060439653181e+33],\n",
       "         ..., \n",
       "         [6.0, 2.0, 70.0, ..., 4.517778025370248e+31, 2.2676234016393304e+32,\n",
       "          1.139206043965318e+33],\n",
       "         [3.0, 0.0, 28.0, ..., 1.1930911641868799e+31, 5.996636534342014e+31,\n",
       "          3.0183344311867595e+32],\n",
       "         [6.0, 2.0, 70.0, ..., 4.517778025370248e+31, 2.2676234016393304e+32,\n",
       "          1.1392060439653178e+33]], dtype=object),\n",
       " 'graph': <networkx.classes.graph.Graph at 0x7ff401146b70>,\n",
       " 'num_classes': 195,\n",
       " 'uniq_matrix': matrix([[6.0, 0.0, 60.0, ..., 1.1518261038892855e+133,\n",
       "          5.804417317464627e+133, 2.9250301136187546e+134],\n",
       "         [3.0, 0.0, 28.0, ..., 8.125085145430541e+132,\n",
       "          4.0944882292888775e+133, 2.063342547006694e+134],\n",
       "         [6.0, 2.0, 70.0, ..., 3.0087880679629557e+133,\n",
       "          1.5162237614896595e+134, 7.640732574028872e+134],\n",
       "         ..., \n",
       "         [6.0, 2.0, 70.0, ..., 3.008788067962955e+133,\n",
       "          1.5162237614896593e+134, 7.64073257402887e+134],\n",
       "         [3.0, 0.0, 28.0, ..., 8.125085145430539e+132,\n",
       "          4.0944882292888735e+133, 2.0633425470066926e+134],\n",
       "         [6.0, 2.0, 70.0, ..., 3.008788067962955e+133,\n",
       "          1.5162237614896591e+134, 7.64073257402887e+134]], dtype=object)}"
      ]
     },
     "execution_count": 96,
     "metadata": {},
     "output_type": "execute_result"
    }
   ],
   "source": [
    "Wobj"
   ]
  },
  {
   "cell_type": "code",
   "execution_count": 27,
   "metadata": {
    "collapsed": false
   },
   "outputs": [
    {
     "data": {
      "image/png": "[encoded data removed]",
      "text/plain": [
       "<matplotlib.figure.Figure at 0x7f9900b71978>"
      ]
     },
     "metadata": {},
     "output_type": "display_data"
    }
   ],
   "source": [
    "G = nx.Graph()\n",
    "\n",
    "G.add_nodes_from(range(0,8))\n",
    "\n",
    "G.add_edges_from( [(a, (a+1) % 6) for a in range(0,6)] )\n",
    "\n",
    "nx.draw(G)\n",
    "plt.show()"
   ]
  },
  {
   "cell_type": "code",
   "execution_count": 31,
   "metadata": {
    "collapsed": false
   },
   "outputs": [],
   "source": [
    "G.add_edges_from( [(6, 0), (6, 2), (6, 4)] )\n",
    "G.add_edges_from( [(7, 1), (7, 3), (7, 5)] )"
   ]
  },
  {
   "cell_type": "code",
   "execution_count": 117,
   "metadata": {
    "collapsed": false
   },
   "outputs": [
    {
     "data": {
      "image/png": "[encoded data removed]",
      "text/plain": [
       "<matplotlib.figure.Figure at 0x7ff4010f47f0>"
      ]
     },
     "metadata": {},
     "output_type": "display_data"
    }
   ],
   "source": [
    "import common.generators as gen\n",
    "G = gen.snowflake()\n",
    "\n",
    "nx.draw(G)\n",
    "plt.show()"
   ]
  }
 ],
 "metadata": {
  "kernelspec": {
   "display_name": "Python 3",
   "language": "python",
   "name": "python3"
  },
  "language_info": {
   "codemirror_mode": {
    "name": "ipython",
    "version": 3
   },
   "file_extension": ".py",
   "mimetype": "text/x-python",
   "name": "python",
   "nbconvert_exporter": "python",
   "pygments_lexer": "ipython3",
   "version": "3.5.1"
  }
 },
 "nbformat": 4,
 "nbformat_minor": 1
}
