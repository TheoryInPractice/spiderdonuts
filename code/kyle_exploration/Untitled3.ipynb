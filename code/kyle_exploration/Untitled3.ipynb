{
 "cells": [
  {
   "cell_type": "code",
   "execution_count": 45,
   "metadata": {
    "collapsed": false
   },
   "outputs": [
    {
     "name": "stdout",
     "output_type": "stream",
     "text": [
      "[[ 11.63965846]\n",
      " [ 11.63965846]\n",
      " [ 11.63965846]]\n"
     ]
    }
   ],
   "source": [
    "import networkx as nx\n",
    "import numpy as np\n",
    "import scipy as sp\n",
    "import scipy.linalg as lin\n",
    "\n",
    "import common.generators as gen\n",
    "\n",
    "# Get graph and adj matrix\n",
    "# so far, snowflakecycle(5,5,3) is the only setting that produces a deceptive graph.\n",
    "G = gen.snowflakecycle(5,5,3)\n",
    "AG = nx.to_numpy_matrix(G)\n",
    "\n",
    "# Build Walk-submatrix\n",
    "inds = [0,1,2]\n",
    "Ut = np.zeros((len(inds),3))\n",
    "\n",
    "A_temp = AG**2\n",
    "diag = np.diag(A_temp)\n",
    "Ut[:,0] = np.squeeze(diag[inds])\n",
    "\n",
    "A_temp = AG**3\n",
    "diag = np.diag(A_temp)\n",
    "Ut[:,1] = np.squeeze(diag[inds])\n",
    "\n",
    "A_temp = AG**5\n",
    "diag = np.diag(A_temp)\n",
    "Ut[:,2] = np.squeeze(diag[inds])\n",
    "\n",
    "Ut = np.matrix(Ut)\n",
    "\n",
    "\n",
    "# Construct Linear Program\n",
    "num_rows, num_cols = Ut.shape\n",
    "\n",
    "A_eq = np.zeros( (num_rows, num_cols+2) )\n",
    "A_eq[:,0:num_cols] = Ut\n",
    "A_eq[:,num_cols] = -np.squeeze(np.ones(shape=(num_rows,1)))\n",
    "A_eq[:,-1] = -np.squeeze(np.zeros(shape=(num_rows,1)))\n",
    "A_eq = np.matrix(A_eq)\n",
    "\n",
    "num_rows,num_cols = np.shape(A_eq)\n",
    "c = np.ones(num_cols)\n",
    "\n",
    "A_ub = np.zeros( (num_rows+1, num_cols) )\n",
    "A_ub[:,0:num_rows+1] = -np.identity(num_rows+1)\n",
    "A_ub[0:3,-1] = np.squeeze(-np.ones(shape=(num_rows,1)))\n",
    "A_ub = np.matrix(A_ub)\n",
    "\n",
    "# Get diagonal of expm(A)\n",
    "evals, evec = lin.eigh(AG)\n",
    "exp_vals = [np.exp(val) for val in evals]\n",
    "EXPM_AG = evec*(np.asmatrix(np.diag(exp_vals)))*evec.T\n",
    "d = np.diag(EXPM_AG)\n",
    "g = [d[idx] for idx in inds]\n",
    "b_eq = -np.asarray(g)\n",
    "\n",
    "b_ub = np.zeros(num_rows+1)\n",
    "b_ub[-1] = -max(abs(b_eq))\n",
    "\n",
    "# Return result\n",
    "opt_obj = sp.optimize.linprog(\n",
    "    c=c,\n",
    "    A_ub=A_ub,\n",
    "    b_ub=b_ub,\n",
    "    A_eq=A_eq,\n",
    "    b_eq=b_eq\n",
    ")\n",
    "opt_obj\n",
    "# Successful termination means we have constructed a deceptive function\n",
    "\n",
    "# Construct deceptive function using coefficients from the optimization problem\n",
    "x = opt_obj.x\n",
    "coeffs = np.asmatrix(x[0:3])\n",
    "coeffs = coeffs.T\n",
    "\n",
    "final_diag = Ut*coeffs + np.asmatrix(g).T\n",
    "print(final_diag)"
   ]
  }
 ],
 "metadata": {
  "kernelspec": {
   "display_name": "Python 3",
   "language": "python",
   "name": "python3"
  },
  "language_info": {
   "codemirror_mode": {
    "name": "ipython",
    "version": 3
   },
   "file_extension": ".py",
   "mimetype": "text/x-python",
   "name": "python",
   "nbconvert_exporter": "python",
   "pygments_lexer": "ipython3",
   "version": "3.5.2"
  }
 },
 "nbformat": 4,
 "nbformat_minor": 1
}
