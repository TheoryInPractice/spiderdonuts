{
 "cells": [
  {
   "cell_type": "code",
   "execution_count": 1,
   "metadata": {
    "collapsed": false
   },
   "outputs": [],
   "source": [
    "import common.generators as gen\n",
    "import struckpod.walks as wks\n",
    "import networkx as nx\n",
    "import kyle_exploration.nonnegcriterion as nneg\n",
    "import numpy as np"
   ]
  },
  {
   "cell_type": "code",
   "execution_count": 2,
   "metadata": {
    "collapsed": false
   },
   "outputs": [
    {
     "name": "stdout",
     "output_type": "stream",
     "text": [
      "\n",
      "Num nodes = 135\n",
      "\n",
      "g\n",
      "[[ 4.59258973]\n",
      " [ 4.54593088]\n",
      " [ 3.8544811 ]]\n",
      "\n",
      "\n",
      "     fun: 4.8683263499083651\n",
      " message: 'Optimization terminated successfully.'\n",
      "     nit: 3\n",
      "   slack: array([ 0.        ,  0.2640719 ,  0.        ,  0.01166471,  4.59258973])\n",
      "  status: 0\n",
      " success: True\n",
      "       x: array([ 0.        ,  0.2640719 ,  0.        ,  0.01166471,  4.59258973])\n",
      "\n",
      "Diagonal entries of our constructed function of this graph:\n",
      "[[4.592589734861856]\n",
      " [4.592589734861856]\n",
      " [4.592589734861856]]\n"
     ]
    }
   ],
   "source": [
    "star_dict = gen.starfish_hyperchain(4,2,[5,3])\n",
    "A = nx.adjacency_matrix(star_dict['graph']).todense()\n",
    "print('\\nNum nodes = ' + str(len(star_dict['graph'])))\n",
    "\n",
    "obj = wks.starfish_hyperchain_walk_classes(star_dict)\n",
    "W = obj['uniq_matrix']\n",
    "representatives = obj['uniq_rows']\n",
    "\n",
    "nneg.check_nonnegative_criterion(A, W, representatives)"
   ]
  },
  {
   "cell_type": "code",
   "execution_count": 5,
   "metadata": {
    "collapsed": false
   },
   "outputs": [
    {
     "name": "stdout",
     "output_type": "stream",
     "text": [
      "\n",
      "Num nodes = 225\n",
      "\n",
      "g\n",
      "[[ 8.91783422]\n",
      " [ 4.82732637]\n",
      " [ 3.86181625]]\n",
      "\n",
      "\n",
      "     fun: 3.8146478165841762\n",
      " message: 'Optimization failed. Unable to find a feasible starting point.'\n",
      "     nit: 2\n",
      "  status: 2\n",
      " success: False\n",
      "       x: nan\n"
     ]
    },
    {
     "ename": "TypeError",
     "evalue": "'float' object is not subscriptable",
     "output_type": "error",
     "traceback": [
      "\u001b[0;31m---------------------------------------------------------------------------\u001b[0m",
      "\u001b[0;31mTypeError\u001b[0m                                 Traceback (most recent call last)",
      "\u001b[0;32m<ipython-input-5-80c987779848>\u001b[0m in \u001b[0;36m<module>\u001b[0;34m()\u001b[0m\n\u001b[1;32m      7\u001b[0m \u001b[0mrepresentatives\u001b[0m \u001b[0;34m=\u001b[0m \u001b[0mobj\u001b[0m\u001b[0;34m[\u001b[0m\u001b[0;34m'uniq_rows'\u001b[0m\u001b[0;34m]\u001b[0m\u001b[0;34m\u001b[0m\u001b[0m\n\u001b[1;32m      8\u001b[0m \u001b[0;34m\u001b[0m\u001b[0m\n\u001b[0;32m----> 9\u001b[0;31m \u001b[0mnneg\u001b[0m\u001b[0;34m.\u001b[0m\u001b[0mcheck_nonnegative_criterion\u001b[0m\u001b[0;34m(\u001b[0m\u001b[0mA\u001b[0m\u001b[0;34m,\u001b[0m \u001b[0mW\u001b[0m\u001b[0;34m,\u001b[0m \u001b[0mrepresentatives\u001b[0m\u001b[0;34m)\u001b[0m\u001b[0;34m\u001b[0m\u001b[0m\n\u001b[0m",
      "\u001b[0;32m/home/kyle/research/sparkstruck/code/kyle_exploration/nonnegcriterion.py\u001b[0m in \u001b[0;36mcheck_nonnegative_criterion\u001b[0;34m(A, W, representatives)\u001b[0m\n\u001b[1;32m     43\u001b[0m     \u001b[0;31m# Construct deceptive function using coefficients from the optimization problem\u001b[0m\u001b[0;34m\u001b[0m\u001b[0;34m\u001b[0m\u001b[0m\n\u001b[1;32m     44\u001b[0m     \u001b[0mx\u001b[0m \u001b[0;34m=\u001b[0m \u001b[0mopt_obj\u001b[0m\u001b[0;34m.\u001b[0m\u001b[0mx\u001b[0m\u001b[0;34m\u001b[0m\u001b[0m\n\u001b[0;32m---> 45\u001b[0;31m     \u001b[0mcoeffs\u001b[0m \u001b[0;34m=\u001b[0m \u001b[0mnp\u001b[0m\u001b[0;34m.\u001b[0m\u001b[0masmatrix\u001b[0m\u001b[0;34m(\u001b[0m\u001b[0mx\u001b[0m\u001b[0;34m[\u001b[0m\u001b[0;36m0\u001b[0m\u001b[0;34m:\u001b[0m\u001b[0;34m-\u001b[0m\u001b[0;36m1\u001b[0m\u001b[0;34m]\u001b[0m\u001b[0;34m)\u001b[0m\u001b[0;34m\u001b[0m\u001b[0m\n\u001b[0m\u001b[1;32m     46\u001b[0m \u001b[0;34m\u001b[0m\u001b[0m\n\u001b[1;32m     47\u001b[0m     \u001b[0mfinal_diag\u001b[0m \u001b[0;34m=\u001b[0m \u001b[0mW\u001b[0m\u001b[0;34m*\u001b[0m\u001b[0mcoeffs\u001b[0m\u001b[0;34m.\u001b[0m\u001b[0mT\u001b[0m \u001b[0;34m+\u001b[0m \u001b[0mnp\u001b[0m\u001b[0;34m.\u001b[0m\u001b[0masmatrix\u001b[0m\u001b[0;34m(\u001b[0m\u001b[0mg\u001b[0m\u001b[0;34m)\u001b[0m\u001b[0;34m.\u001b[0m\u001b[0mT\u001b[0m\u001b[0;34m\u001b[0m\u001b[0m\n",
      "\u001b[0;31mTypeError\u001b[0m: 'float' object is not subscriptable"
     ]
    }
   ],
   "source": [
    "star_dict = gen.starfish_hyperchain(7,2,[5,3])\n",
    "A = nx.adjacency_matrix(star_dict['graph']).todense()\n",
    "print('\\nNum nodes = ' + str(len(star_dict['graph'])))\n",
    "\n",
    "obj = wks.starfish_hyperchain_walk_classes(star_dict)\n",
    "W = obj['uniq_matrix']\n",
    "representatives = obj['uniq_rows']\n",
    "\n",
    "nneg.check_nonnegative_criterion(A, W, representatives)"
   ]
  },
  {
   "cell_type": "code",
   "execution_count": 6,
   "metadata": {
    "collapsed": false
   },
   "outputs": [
    {
     "name": "stdout",
     "output_type": "stream",
     "text": [
      "\n",
      "Num nodes = 1365\n",
      "\n",
      "g\n",
      "[[ 4.59649562]\n",
      " [ 4.57236759]\n",
      " [ 4.52046057]\n",
      " [ 3.85405843]]\n",
      "\n",
      "\n",
      "     fun: 12.146702822642256\n",
      " message: 'Optimization terminated successfully.'\n",
      "     nit: 7\n",
      "   slack: array([  0.00000000e+00,   1.35464748e+00,   2.13501324e-01,\n",
      "         0.00000000e+00,   0.00000000e+00,   4.02133860e-03,\n",
      "         1.05745327e+01])\n",
      "  status: 0\n",
      " success: True\n",
      "       x: array([  0.00000000e+00,   1.35464748e+00,   2.13501324e-01,\n",
      "         0.00000000e+00,   0.00000000e+00,   4.02133860e-03,\n",
      "         1.05745327e+01])\n",
      "\n",
      "Diagonal entries of our constructed function of this graph:\n",
      "[[10.574532680168854]\n",
      " [10.574532680168854]\n",
      " [10.574532680168854]\n",
      " [10.574532680168856]]\n"
     ]
    }
   ],
   "source": [
    "star_dict = gen.starfish_hyperchain(4,3,[7,5,3])\n",
    "A = nx.adjacency_matrix(star_dict['graph']).todense()\n",
    "print('\\nNum nodes = ' + str(len(star_dict['graph'])))\n",
    "\n",
    "obj = wks.starfish_hyperchain_walk_classes(star_dict)\n",
    "W = obj['uniq_matrix']\n",
    "representatives = obj['uniq_rows']\n",
    "\n",
    "nneg.check_nonnegative_criterion(A, W, representatives)"
   ]
  },
  {
   "cell_type": "code",
   "execution_count": 7,
   "metadata": {
    "collapsed": false
   },
   "outputs": [
    {
     "data": {
      "text/plain": [
       "matrix([[4.0, 0.0, 28.0, 0.0, 256.0, 0.0],\n",
       "        [4.0, 0.0, 28.0, 0.0, 243.0, 6.0],\n",
       "        [4.0, 0.0, 27.0, 4.0, 212.0, 72.0],\n",
       "        [3.0, 2.0, 16.0, 18.0, 107.0, 148.0]], dtype=object)"
      ]
     },
     "execution_count": 7,
     "metadata": {},
     "output_type": "execute_result"
    }
   ],
   "source": [
    "W"
   ]
  }
 ],
 "metadata": {
  "kernelspec": {
   "display_name": "Python 3",
   "language": "python",
   "name": "python3"
  },
  "language_info": {
   "codemirror_mode": {
    "name": "ipython",
    "version": 3
   },
   "file_extension": ".py",
   "mimetype": "text/x-python",
   "name": "python",
   "nbconvert_exporter": "python",
   "pygments_lexer": "ipython3",
   "version": "3.5.1"
  }
 },
 "nbformat": 4,
 "nbformat_minor": 1
}
