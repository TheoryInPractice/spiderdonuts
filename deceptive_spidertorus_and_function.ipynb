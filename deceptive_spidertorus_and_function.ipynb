{
 "cells": [
  {
   "cell_type": "code",
   "execution_count": 84,
   "metadata": {
    "collapsed": false
   },
   "outputs": [
    {
     "name": "stdout",
     "output_type": "stream",
     "text": [
      "If this value is near machine precision, we've constructed a deceptive function:\n",
      "3.2862601528904634e-14\n"
     ]
    }
   ],
   "source": [
    "\"\"\"\n",
    "    This cell constructs a spider torus with 3 node classes,\n",
    "    then builds a deceptive function for that graph using\n",
    "    our nonegative linear system check.\n",
    "\"\"\"\n",
    "\n",
    "# Import spiderdonuts modules\n",
    "from code import polygraph, generators as gen\n",
    "\n",
    "# Generate a deceptive spidertorus with 3 node classes\n",
    "spidertorus_obj = gen.spider_torus(4, 2, [5, 3])\n",
    "\n",
    "# Get graph\n",
    "import networkx as nx\n",
    "A = nx.adjacency_matrix(spidertorus_obj['graph']).todense()\n",
    "\n",
    "# Compute walk class info\n",
    "walk_obj = polygraph.spider_torus_walk_classes(spidertorus_obj)\n",
    "\n",
    "# Check for a solution to the system Wx = (gamma * e) - g\n",
    "res = polygraph.nonnegative_linear_system_check(walk_obj)\n",
    "coefficients = res.x[-2::-1]\n",
    "\n",
    "import numpy as np\n",
    "\n",
    "# get eig decomposition\n",
    "eig_vals, eig_vecs = np.linalg.eigh(A)\n",
    "\n",
    "# get polynomial\n",
    "poly = np.poly1d(np.concatenate((coefficients, [0,0])))\n",
    "\n",
    "# diagonal of polynomial term\n",
    "function_eigs = np.diag([ np.polyval(poly, y) for y in eig_vals ])\n",
    "function_A = eig_vecs * function_eigs * eig_vecs.T\n",
    "\n",
    "#diagonal of exponential\n",
    "exp_A = eig_vecs * np.diag([ np.exp(y) for y in eig_vals ]) * eig_vecs.T\n",
    "\n",
    "# diagonal of exponential + polynomial, i.e. our constructed deceptive function\n",
    "deceptive_diagonal = np.diag(function_A) + np.diag(exp_A)\n",
    "\n",
    "print(\"If this value is near machine precision, we've constructed a deceptive function:\\n{}\".format(\n",
    "        max(abs( deceptive_diagonal - np.ones(deceptive_diagonal.shape)*max(deceptive_diagonal)) )\n",
    "      ))\n"
   ]
  },
  {
   "cell_type": "code",
   "execution_count": 85,
   "metadata": {
    "collapsed": false
   },
   "outputs": [
    {
     "name": "stdout",
     "output_type": "stream",
     "text": [
      "If this value is near machine precision, we've constructed a deceptive function:\n",
      "1.2434497875801753e-13\n"
     ]
    }
   ],
   "source": [
    "\"\"\"\n",
    "    This cell constructs a spider torus with 4 node classes,\n",
    "    then builds a deceptive function for that graph using\n",
    "    our nonegative linear system check.\n",
    "\"\"\"\n",
    "\n",
    "# Import spiderdonuts modules\n",
    "from code import polygraph, generators as gen\n",
    "\n",
    "# Generate a deceptive spidertorus with 3 node classes\n",
    "spidertorus_obj = gen.spider_torus(4, 3, [7, 5, 3])\n",
    "\n",
    "# Get graph\n",
    "import networkx as nx\n",
    "A = nx.adjacency_matrix(spidertorus_obj['graph']).todense()\n",
    "\n",
    "# Compute walk class info\n",
    "walk_obj = polygraph.spider_torus_walk_classes(spidertorus_obj)\n",
    "\n",
    "# Check for a solution to the system Wx = (gamma * e) - g\n",
    "res = polygraph.nonnegative_linear_system_check(walk_obj)\n",
    "coefficients = res.x[-2::-1]\n",
    "\n",
    "import numpy as np\n",
    "\n",
    "# get eig decomposition\n",
    "eig_vals, eig_vecs = np.linalg.eigh(A)\n",
    "\n",
    "# get polynomial\n",
    "poly = np.poly1d(np.concatenate((coefficients, [0,0])))\n",
    "\n",
    "# diagonal of polynomial term\n",
    "function_eigs = np.diag([ np.polyval(poly, y) for y in eig_vals ])\n",
    "function_A = eig_vecs * function_eigs * eig_vecs.T\n",
    "\n",
    "#diagonal of exponential\n",
    "exp_A = eig_vecs * np.diag([ np.exp(y) for y in eig_vals ]) * eig_vecs.T\n",
    "\n",
    "# diagonal of exponential + polynomial, i.e. our constructed deceptive function\n",
    "deceptive_diagonal = np.diag(function_A) + np.diag(exp_A)\n",
    "\n",
    "print(\"If this value is near machine precision, we've constructed a deceptive function:\\n{}\".format(\n",
    "        max(abs( deceptive_diagonal - np.ones(deceptive_diagonal.shape)*max(deceptive_diagonal)) )\n",
    "      ))\n"
   ]
  }
 ],
 "metadata": {
  "kernelspec": {
   "display_name": "Python 3",
   "language": "python",
   "name": "python3"
  },
  "language_info": {
   "codemirror_mode": {
    "name": "ipython",
    "version": 3
   },
   "file_extension": ".py",
   "mimetype": "text/x-python",
   "name": "python",
   "nbconvert_exporter": "python",
   "pygments_lexer": "ipython3",
   "version": "3.6.0"
  }
 },
 "nbformat": 4,
 "nbformat_minor": 2
}
